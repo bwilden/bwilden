{
  "cells": [
    {
      "cell_type": "raw",
      "metadata": {},
      "source": [
        "---\n",
        "title: \"Bertrand Wilden\"\n",
        "image: profile.jpeg\n",
        "about:\n",
        "  template: jolla\n",
        "  links:\n",
        "    - icon: twitter\n",
        "      text: Twitter\n",
        "      href: https://twitter.com/bertrand_wilden\n",
        "    - icon: github\n",
        "      text: Github\n",
        "      href: https://github.com/bwilden\n",
        "    - icon: linkedin\n",
        "      text: LinkedIn\n",
        "      href: https://www.linkedin.com/in/bertrand-wilden-84041a153/\n",
        "\n",
        "---"
      ],
      "id": "f0c1ca65"
    },
    {
      "cell_type": "markdown",
      "metadata": {},
      "source": [
        "```{css, echo = FALSE}\n",
        ".justify {\n",
        "  text-align: justify !important\n",
        "}\n",
        "```\n",
        "\n",
        "\n",
        "## Quarto\n",
        "\n",
        "::: {.justify}\n",
        "\n",
        "Hi! I am a data scientist and PhD Candidate at UC San Diego working on a degree in Political Science with a Specialization in Computational Social Science. My research involves building Bayesian statistical models to measure latent variables such as political ideology. I am also interested in open source software development in R.\n",
        "\n",
        "When waiting for my MCMC chains to finish I like to rock climb, play board games, and go backpacking.\n",
        "\n",
        ":::"
      ],
      "id": "359e0162"
    }
  ],
  "metadata": {
    "kernelspec": {
      "name": "python3",
      "language": "python",
      "display_name": "Python 3"
    }
  },
  "nbformat": 4,
  "nbformat_minor": 5
}